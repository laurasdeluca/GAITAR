{
 "cells": [
  {
   "cell_type": "code",
   "execution_count": 3,
   "id": "3329ab79-7555-481a-8a10-314eba33c360",
   "metadata": {
    "tags": []
   },
   "outputs": [
    {
     "name": "stdout",
     "output_type": "stream",
     "text": [
      "Loaded 18 documents from /Users/user/Desktop/GAITAR-hashed\n",
      "\n",
      "Topic #1:\n",
      "homes, nile, alexandria, river, temples, civilization, used, greek, water, materials\n",
      "\n",
      "Topic #2:\n",
      "rich, accurate, understanding, history, political, civilization, like cleopatra, cleopatra ancient, answers, tell\n",
      "\n",
      "Topic #3:\n",
      "would, image, see, often, copilot, people, time, also, women, made\n",
      "\n",
      "Topic #4:\n",
      "antony, caesar, political, julius, mark, mark antony, roman, ruler, julius caesar, relationship\n"
     ]
    },
    {
     "name": "stderr",
     "output_type": "stream",
     "text": [
      "[nltk_data] Downloading package punkt to /Users/user/nltk_data...\n",
      "[nltk_data]   Package punkt is already up-to-date!\n",
      "[nltk_data] Downloading package stopwords to /Users/user/nltk_data...\n",
      "[nltk_data]   Package stopwords is already up-to-date!\n"
     ]
    }
   ],
   "source": [
    "import os\n",
    "import docx\n",
    "import nltk\n",
    "import re\n",
    "from sklearn.feature_extraction.text import CountVectorizer\n",
    "from sklearn.decomposition import LatentDirichletAllocation\n",
    "import matplotlib.pyplot as plt\n",
    "\n",
    "# 1) Download stopwords\n",
    "nltk.download('punkt')\n",
    "nltk.download('stopwords')\n",
    "\n",
    "# 2) Load all .docx files from folder\n",
    "folder_path = \"/Users/user/Desktop/GAITAR-hashed\"\n",
    "docs = []\n",
    "\n",
    "for fname in os.listdir(folder_path):\n",
    "    if fname.endswith('.docx'):\n",
    "        doc_path = os.path.join(folder_path, fname)\n",
    "        doc = docx.Document(doc_path)\n",
    "        text = '\\n'.join([para.text for para in doc.paragraphs])\n",
    "        docs.append(text)\n",
    "\n",
    "print(f\"Loaded {len(docs)} documents from {folder_path}\")\n",
    "\n",
    "# 3) Basic text cleaning\n",
    "def clean_text(text):\n",
    "    text = text.lower()\n",
    "    text = re.sub(r'\\d+', '', text)  # remove numbers\n",
    "    text = re.sub(r'\\W+', ' ', text) # remove punctuation\n",
    "    return text\n",
    "\n",
    "docs_clean = [clean_text(doc) for doc in docs]\n",
    "\n",
    "# 4) Vectorization\n",
    "stop_words = nltk.corpus.stopwords.words('english')\n",
    "vectorizer = CountVectorizer(\n",
    "    stop_words=stop_words,\n",
    "    min_df=2,\n",
    "    max_df=0.8,\n",
    "    ngram_range=(1, 2)\n",
    ")\n",
    "dtm = vectorizer.fit_transform(docs_clean)\n",
    "\n",
    "# 5) Topic modeling with LDA\n",
    "n_topics = 4  # you can change this\n",
    "lda = LatentDirichletAllocation(n_components=n_topics, random_state=42)\n",
    "lda.fit(dtm)\n",
    "\n",
    "# 6) Show topics\n",
    "def print_topics(model, vectorizer, top_n=10):\n",
    "    words = vectorizer.get_feature_names_out()\n",
    "    for idx, topic in enumerate(model.components_):\n",
    "        print(f\"\\nTopic #{idx + 1}:\")\n",
    "        print(\", \".join([words[i] for i in topic.argsort()[:-top_n - 1:-1]]))\n",
    "\n",
    "print_topics(lda, vectorizer)"
   ]
  },
  {
   "cell_type": "code",
   "execution_count": null,
   "id": "893c7343-c599-4ebe-a0b5-baa717fae6c3",
   "metadata": {},
   "outputs": [],
   "source": []
  }
 ],
 "metadata": {
  "kernelspec": {
   "display_name": "Python 3 (ipykernel)",
   "language": "python",
   "name": "python3"
  },
  "language_info": {
   "codemirror_mode": {
    "name": "ipython",
    "version": 3
   },
   "file_extension": ".py",
   "mimetype": "text/x-python",
   "name": "python",
   "nbconvert_exporter": "python",
   "pygments_lexer": "ipython3",
   "version": "3.11.4"
  }
 },
 "nbformat": 4,
 "nbformat_minor": 5
}
